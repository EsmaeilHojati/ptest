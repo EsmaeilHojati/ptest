{
 "cells": [
  {
   "cell_type": "markdown",
   "metadata": {},
   "source": [
    "Q1:"
   ]
  },
  {
   "cell_type": "code",
   "execution_count": 1,
   "metadata": {},
   "outputs": [
    {
     "name": "stdout",
     "output_type": "stream",
     "text": [
      "Please enter a word (more than 3 characters):abc\n",
      "abc\n",
      "Please enter a word (more than 3 characters):sing\n",
      "singly\n",
      "Please enter a word (more than 3 characters):swim\n",
      "swiming\n"
     ]
    }
   ],
   "source": [
    "def add_ing():\n",
    "    s=input(\"Please enter a word (more than 3 characters):\")\n",
    "    if len(s) > 3 :\n",
    "        if s[-3:]==\"ing\":\n",
    "            s = s+\"ly\"\n",
    "        else:\n",
    "            s = s+\"ing\"\n",
    "    print(s)\n",
    "\n",
    "add_ing()\n",
    "add_ing()\n",
    "add_ing()"
   ]
  },
  {
   "cell_type": "markdown",
   "metadata": {},
   "source": [
    "Q2:"
   ]
  },
  {
   "cell_type": "code",
   "execution_count": 2,
   "metadata": {},
   "outputs": [
    {
     "name": "stdout",
     "output_type": "stream",
     "text": [
      "It is False that the list [1, 2, 3, 4] has at least one sublist.\n",
      "It is True that the list [1, 2, [4, 6], 3, 4] has at least one sublist.\n"
     ]
    }
   ],
   "source": [
    "#========= 2 =============\n",
    "def has_sublist(x):\n",
    "    sublistFound = False\n",
    "    for item in x:\n",
    "        if type(item) is list:\n",
    "            sublistFound = True\n",
    "            break\n",
    "    out_str = \"It is \" + str(sublistFound) + \" that the list \" + str(x) + \" has at least one sublist.\"\n",
    "    print(out_str)\n",
    "\n",
    "has_sublist([1,2,3,4])\n",
    "has_sublist([1,2,[4,6],3,4])"
   ]
  },
  {
   "cell_type": "markdown",
   "metadata": {},
   "source": [
    "Q3:"
   ]
  },
  {
   "cell_type": "code",
   "execution_count": 3,
   "metadata": {},
   "outputs": [
    {
     "name": "stdout",
     "output_type": "stream",
     "text": [
      "['a1', 'a2', 'a3', 'a4', 'a5', 'x1', 'x2', 'x3', 'x4', 'x5', 'd1', 'd2', 'd3', 'd4', 'd5']\n"
     ]
    }
   ],
   "source": [
    "# ========= 3 =============\n",
    "def concat_list(stringList,number):\n",
    "    outList = []\n",
    "    for item in stringList:\n",
    "        for i in range(1,number+1):\n",
    "            outList.append( item + str(i) )\n",
    "    print(str(outList))\n",
    "concat_list(['a','x','d'],5)"
   ]
  },
  {
   "cell_type": "markdown",
   "metadata": {},
   "source": [
    "Q4:"
   ]
  },
  {
   "cell_type": "code",
   "execution_count": 6,
   "metadata": {},
   "outputs": [
    {
     "name": "stdout",
     "output_type": "stream",
     "text": [
      "['aa', 'bb', 'cc', 'dfg', 'zz']\n"
     ]
    }
   ],
   "source": [
    "# ========= 4 =============\n",
    "#x=input(\"Please enter a comma separated string:\")\n",
    "x=\"zz,aa,bb,cc,aa,zz,dfg,bb\"\n",
    "words=x.split(',')    # separate words and put them in a list\n",
    "wordSet=set(words)    # make a set from words, this will make the words unique\n",
    "wordsUniqueList=list(wordSet)    # make a list from the unique set\n",
    "wordsUniqueList.sort()           # sort it\n",
    "print(wordsUniqueList)"
   ]
  },
  {
   "cell_type": "markdown",
   "metadata": {},
   "source": [
    "Q5:"
   ]
  },
  {
   "cell_type": "code",
   "execution_count": 7,
   "metadata": {},
   "outputs": [
    {
     "name": "stdout",
     "output_type": "stream",
     "text": [
      "{'H': 2, 'E': 2, 'L': 2, 'O': 1, 'T': 3, 'I': 2, 'S': 3, 'A': 1}\n"
     ]
    }
   ],
   "source": [
    "# ========= 5 =============\n",
    "x=\"Hello, this Is a TEST!\"\n",
    "alphaDict=dict()\n",
    "strUppercase=x.upper()  #first make all characters upper case,\n",
    "                        # so we dont need to check for both lower and upper\n",
    "for char in strUppercase:\n",
    "    if(char.isalpha()):\n",
    "        if(char in alphaDict):  #if the character is alredy in dict\n",
    "            alphaDict[char] = alphaDict[char] + 1   # increase it's value by one\n",
    "        else:                                       #else\n",
    "            alphaDict[char] = 1                     # put it in dict with a value of 1\n",
    "print(alphaDict)\n",
    "\n"
   ]
  },
  {
   "cell_type": "markdown",
   "metadata": {},
   "source": [
    "Q6:"
   ]
  },
  {
   "cell_type": "code",
   "execution_count": 9,
   "metadata": {},
   "outputs": [
    {
     "name": "stdout",
     "output_type": "stream",
     "text": [
      "=================================================\n",
      "Seq1 ={'e', 'd', 'c', 'b', 'f'}\n",
      "Seq2 ={'a', 'c', 'b'}\n",
      "All elements occuring in seq1 but not seq2:{'f', 'e', 'd'}\n",
      "All elements occuring in seq2 but not seq1:{'a'}\n",
      "Combined elements of seq1 and seq2:{'c', 'e', 'b', 'f', 'a', 'd'}\n",
      "Elements occuring in both seq1 and seq2:{'b', 'c'}\n",
      "NEITHER\n",
      "=================================================\n",
      "Seq1 ={'e', 'd', 'c', 'b', 'f'}\n",
      "Seq2 ={'b', 'c'}\n",
      "All elements occuring in seq1 but not seq2:{'f', 'e', 'd'}\n",
      "All elements occuring in seq2 but not seq1:set()\n",
      "Combined elements of seq1 and seq2:{'c', 'e', 'b', 'f', 'd'}\n",
      "Elements occuring in both seq1 and seq2:{'b', 'c'}\n",
      "GREATER\n",
      "=================================================\n",
      "Seq1 ={'a', 'c'}\n",
      "Seq2 ={'a', 'c', 'b'}\n",
      "All elements occuring in seq1 but not seq2:set()\n",
      "All elements occuring in seq2 but not seq1:{'b'}\n",
      "Combined elements of seq1 and seq2:{'c', 'b', 'a'}\n",
      "Elements occuring in both seq1 and seq2:{'a', 'c'}\n",
      "LESSER\n",
      "=================================================\n",
      "Seq1 ={'a', 'c'}\n",
      "Seq2 ={'b', 'f'}\n",
      "All elements occuring in seq1 but not seq2:{'a', 'c'}\n",
      "All elements occuring in seq2 but not seq1:{'b', 'f'}\n",
      "Combined elements of seq1 and seq2:{'a', 'c', 'f', 'b'}\n",
      "Elements occuring in both seq1 and seq2:set()\n",
      "NEITHER\n"
     ]
    }
   ],
   "source": [
    "# ========= 6 =============\n",
    "def compare_seq(seq1,seq2):\n",
    "    seq1Set = set(seq1) #since the input could be anything we make a set from it\n",
    "    seq2Set = set(seq2)\n",
    "    inSeq1NotSeq2 = seq1Set - seq2Set\n",
    "    inSeq2NotSeq1 = seq2Set - seq1Set\n",
    "    combinedSets = seq1Set.union(seq2Set)\n",
    "    bothSets = seq1Set.intersection(seq2Set)\n",
    "    print('=================================================')\n",
    "    print('Seq1 =' + str(seq1Set))\n",
    "    print('Seq2 =' + str(seq2Set))\n",
    "    print('All elements occuring in seq1 but not seq2:' + str(inSeq1NotSeq2) )\n",
    "    print('All elements occuring in seq2 but not seq1:' + str(inSeq2NotSeq1) )\n",
    "    print('Combined elements of seq1 and seq2:' + str(combinedSets) )\n",
    "    print('Elements occuring in both seq1 and seq2:' + str(bothSets) )\n",
    "    \n",
    "    if(seq1Set == seq2Set):\n",
    "        print ('EQUAL')\n",
    "    elif(seq2Set.issubset(seq1Set)):\n",
    "        print('GREATER')\n",
    "    elif (seq1Set.issubset(seq2Set)):\n",
    "        print('LESSER')\n",
    "    else:\n",
    "        print('NEITHER')\n",
    "#Test\n",
    "compare_seq(['f','e','d','c','b'],('a','b','c'))\n",
    "compare_seq(['f','e','d','c','b'],('b','c'))\n",
    "compare_seq(['a','c'],('a','b','c'))\n",
    "compare_seq(['a','c'],('b','f'))"
   ]
  },
  {
   "cell_type": "code",
   "execution_count": null,
   "metadata": {},
   "outputs": [],
   "source": []
  }
 ],
 "metadata": {
  "kernelspec": {
   "display_name": "Python 3",
   "language": "python",
   "name": "python3"
  },
  "language_info": {
   "codemirror_mode": {
    "name": "ipython",
    "version": 3
   },
   "file_extension": ".py",
   "mimetype": "text/x-python",
   "name": "python",
   "nbconvert_exporter": "python",
   "pygments_lexer": "ipython3",
   "version": "3.6.8"
  }
 },
 "nbformat": 4,
 "nbformat_minor": 2
}
